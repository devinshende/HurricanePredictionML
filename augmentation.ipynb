{
 "cells": [
  {
   "cell_type": "code",
   "execution_count": 21,
   "metadata": {},
   "outputs": [],
   "source": [
    "import numpy as np\n",
    "import scipy as sp\n",
    "import pandas as pd\n",
    "\n",
    "import Augmentor \n",
    "\n",
    "import matplotlib.pyplot as plt\n",
    "import matplotlib.image as mpimg\n",
    "%matplotlib inline\n",
    "import seaborn as sns\n",
    "from IPython.display import HTML, Image"
   ]
  },
  {
   "cell_type": "code",
   "execution_count": null,
   "metadata": {},
   "outputs": [
    {
     "name": "stdout",
     "output_type": "stream",
     "text": [
      "Initialised with 14284 image(s) found.\n",
      "Output directory set to ./damage/../output/damage/."
     ]
    }
   ],
   "source": [
    "p = Augmentor.Pipeline(source_directory=\"./damage/\", output_directory=\"../output/damage/\")\n",
    "# p = Augmentor.Pipeline(source_directory=\"./no_damage/\", output_directory=\"../output/no_damage/\")\n",
    "p.flip_left_right(0.4)\n",
    "p.flip_top_bottom(0.8)\n",
    "p.rotate(0.5, 5, 10)\n",
    "p.skew(0.4, 0.5)\n",
    "p.zoom(0.2, 1.1, 1.5)\n",
    "p.sample(10)"
   ]
  }
 ],
 "metadata": {
  "kernelspec": {
   "display_name": "Python 3",
   "language": "python",
   "name": "python3"
  },
  "language_info": {
   "codemirror_mode": {
    "name": "ipython",
    "version": 3
   },
   "file_extension": ".py",
   "mimetype": "text/x-python",
   "name": "python",
   "nbconvert_exporter": "python",
   "pygments_lexer": "ipython3",
   "version": "3.13.0"
  }
 },
 "nbformat": 4,
 "nbformat_minor": 2
}
