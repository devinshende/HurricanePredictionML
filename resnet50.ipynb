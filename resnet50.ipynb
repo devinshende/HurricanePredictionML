{
 "cells": [
  {
   "cell_type": "markdown",
   "metadata": {},
   "source": [
    "### Create the dataset dir\n"
   ]
  },
  {
   "cell_type": "code",
   "execution_count": 31,
   "metadata": {},
   "outputs": [
    {
     "data": {
      "text/plain": [
       "['state.json', 'dataset_info.json', 'data-00000-of-00001.arrow']"
      ]
     },
     "execution_count": 31,
     "metadata": {},
     "output_type": "execute_result"
    }
   ],
   "source": [
    "os.listdir(\"cats\")"
   ]
  },
  {
   "cell_type": "markdown",
   "metadata": {},
   "source": [
    "#### Add a new image to dataset"
   ]
  },
  {
   "cell_type": "code",
   "execution_count": 23,
   "metadata": {},
   "outputs": [
    {
     "name": "stderr",
     "output_type": "stream",
     "text": [
      "Saving the dataset (1/1 shards): 100%|██████████| 2/2 [00:00<00:00, 244.53 examples/s]"
     ]
    },
    {
     "name": "stdout",
     "output_type": "stream",
     "text": [
      "Updated dataset length: 2\n"
     ]
    },
    {
     "name": "stderr",
     "output_type": "stream",
     "text": [
      "\n"
     ]
    }
   ],
   "source": [
    "from datasets import Dataset, concatenate_datasets\n",
    "import shutil\n",
    "import os\n",
    "\n",
    "output_directory = './cats'\n",
    "existing_dataset = Dataset.load_from_disk(output_directory)\n",
    "new_image_path = 'tim.jpeg'\n",
    "\n",
    "# Create a new dataset entry for the new image\n",
    "new_entry = Dataset.from_list([{'image': new_image_path}], features=existing_dataset.features)\n",
    "updated_dataset = concatenate_datasets([existing_dataset, new_entry])\n",
    "\n",
    "# Save the updated dataset to a temporary directory because of permissions\n",
    "temp_directory = './cats_temp'\n",
    "updated_dataset.save_to_disk(temp_directory)\n",
    "\n",
    "# Replace the original directory with the updated dataset\n",
    "shutil.rmtree(output_directory)  # Delete the original directory\n",
    "shutil.move(temp_directory, output_directory)  # Move the temp directory to the original path\n",
    "\n",
    "# Print the length to verify the new image was added\n",
    "print(f\"Updated dataset length: {len(updated_dataset)}\")\n"
   ]
  },
  {
   "cell_type": "markdown",
   "metadata": {},
   "source": [
    "# Make a prediction with ResNet"
   ]
  },
  {
   "cell_type": "code",
   "execution_count": 38,
   "metadata": {},
   "outputs": [
    {
     "name": "stdout",
     "output_type": "stream",
     "text": [
      "suit, suit of clothes\n"
     ]
    }
   ],
   "source": [
    "from transformers import AutoImageProcessor, ResNetForImageClassification\n",
    "import torch\n",
    "from datasets import load_from_disk\n",
    "\n",
    "# dataset = load_dataset(\"huggingface/cats-image\")\n",
    "ds = load_from_disk('./cats')\n",
    "image = ds[1]['image']\n",
    "\n",
    "processor = AutoImageProcessor.from_pretrained(\"microsoft/resnet-50\")\n",
    "model = ResNetForImageClassification.from_pretrained(\"microsoft/resnet-50\")\n",
    "\n",
    "inputs = processor(image, return_tensors=\"pt\")\n",
    "\n",
    "with torch.no_grad():\n",
    "    logits = model(**inputs).logits\n",
    "\n",
    "# model predicts one of the 1000 ImageNet classes\n",
    "predicted_label = logits.argmax(-1).item()\n",
    "print(model.config.id2label[predicted_label])"
   ]
  },
  {
   "cell_type": "code",
   "execution_count": 50,
   "metadata": {},
   "outputs": [
    {
     "data": {
      "text/plain": [
       "transformers.models.resnet.modeling_resnet.ResNetForImageClassification"
      ]
     },
     "execution_count": 50,
     "metadata": {},
     "output_type": "execute_result"
    }
   ],
   "source": [
    "type(model)"
   ]
  },
  {
   "cell_type": "code",
   "execution_count": null,
   "metadata": {},
   "outputs": [],
   "source": []
  }
 ],
 "metadata": {
  "kernelspec": {
   "display_name": "Python 3",
   "language": "python",
   "name": "python3"
  },
  "language_info": {
   "codemirror_mode": {
    "name": "ipython",
    "version": 3
   },
   "file_extension": ".py",
   "mimetype": "text/x-python",
   "name": "python",
   "nbconvert_exporter": "python",
   "pygments_lexer": "ipython3",
   "version": "3.12.4"
  }
 },
 "nbformat": 4,
 "nbformat_minor": 2
}
