{
 "cells": [
  {
   "cell_type": "code",
   "execution_count": 3,
   "metadata": {},
   "outputs": [
    {
     "name": "stderr",
     "output_type": "stream",
     "text": [
      "/Library/Frameworks/Python.framework/Versions/3.10/lib/python3.10/site-packages/tqdm/auto.py:21: TqdmWarning: IProgress not found. Please update jupyter and ipywidgets. See https://ipywidgets.readthedocs.io/en/stable/user_install.html\n",
      "  from .autonotebook import tqdm as notebook_tqdm\n"
     ]
    }
   ],
   "source": [
    "import os\n",
    "from datasets import Dataset, concatenate_datasets\n",
    "from transformers import AutoImageProcessor, ResNetForImageClassification\n",
    "import torch\n",
    "import matplotlib.pyplot as plt\n",
    "import PIL"
   ]
  },
  {
   "cell_type": "code",
   "execution_count": 4,
   "metadata": {},
   "outputs": [],
   "source": [
    "original_dataset_dir = ''\n",
    "train_damage_dir = os.path.join(original_dataset_dir, 'damage')\n",
    "validation_damage_dir = os.path.join(original_dataset_dir, 'validation_another/damage')\n",
    "test_damage_dir = os.path.join(original_dataset_dir, 'test/damage')\n",
    "\n",
    "train_nodamage_dir = os.path.join(original_dataset_dir, 'no_damage')\n",
    "validation_nodamage_dir = os.path.join(original_dataset_dir, 'validation_another/no_damage')\n",
    "test_nodamage_dir = os.path.join(original_dataset_dir, 'test/no_damage')"
   ]
  },
  {
   "cell_type": "code",
   "execution_count": 5,
   "metadata": {},
   "outputs": [
    {
     "name": "stdout",
     "output_type": "stream",
     "text": [
      "Total training damage images: 14284\n",
      "Total validation damage images: 1000\n",
      "Total test damage images: 1000\n",
      "Total training no damage images: 7208\n",
      "Total validation no damage images: 1000\n",
      "Total test no damage images: 1000\n"
     ]
    }
   ],
   "source": [
    "print('Total training damage images:', len(os.listdir(train_damage_dir)))\n",
    "print('Total validation damage images:', len(os.listdir(validation_damage_dir)))\n",
    "print('Total test damage images:', len(os.listdir(test_damage_dir)))\n",
    "\n",
    "print('Total training no damage images:', len(os.listdir(train_nodamage_dir)))\n",
    "print('Total validation no damage images:', len(os.listdir(validation_nodamage_dir)))\n",
    "print('Total test no damage images:', len(os.listdir(test_nodamage_dir)))"
   ]
  },
  {
   "cell_type": "code",
   "execution_count": 6,
   "metadata": {},
   "outputs": [],
   "source": [
    "processor = AutoImageProcessor.from_pretrained(\"microsoft/resnet-50\")\n",
    "model = ResNetForImageClassification.from_pretrained(\"microsoft/resnet-50\")"
   ]
  },
  {
   "cell_type": "code",
   "execution_count": 7,
   "metadata": {},
   "outputs": [],
   "source": [
    "def predict_image_category(image_path):\n",
    "    # Load image using PIL\n",
    "    image = PIL.Image.open(image_path)\n",
    "    # Preprocess image\n",
    "    inputs = processor(image, return_tensors=\"pt\")\n",
    "    # Run the model to get predictions\n",
    "    with torch.no_grad():\n",
    "        logits = model(**inputs).logits\n",
    "    # Get the predicted label\n",
    "    predicted_label = logits.argmax(-1).item()\n",
    "    return model.config.id2label[predicted_label]\n"
   ]
  },
  {
   "cell_type": "code",
   "execution_count": 8,
   "metadata": {},
   "outputs": [
    {
     "ename": "",
     "evalue": "",
     "output_type": "error",
     "traceback": [
      "\u001b[1;31mThe Kernel crashed while executing code in the the current cell or a previous cell. Please review the code in the cell(s) to identify a possible cause of the failure. Click <a href='https://aka.ms/vscodeJupyterKernelCrash'>here</a> for more info. View Jupyter <a href='command:jupyter.viewOutput'>log</a> for further details."
     ]
    },
    {
     "ename": "",
     "evalue": "",
     "output_type": "error",
     "traceback": [
      "\u001b[1;31mCanceled future for execute_request message before replies were done"
     ]
    }
   ],
   "source": [
    "sample_damage_image_path = os.path.join(train_damage_dir, os.listdir(train_damage_dir)[0])\n",
    "sample_nodamage_image_path = os.path.join(train_nodamage_dir, os.listdir(train_nodamage_dir)[0])\n",
    "print(\"Predicted label for a damage image:\", predict_image_category(sample_damage_image_path))\n",
    "print(\"Predicted label for a no-damage image:\", predict_image_category(sample_nodamage_image_path))"
   ]
  },
  {
   "cell_type": "code",
   "execution_count": 1,
   "metadata": {},
   "outputs": [
    {
     "ename": "NameError",
     "evalue": "name 'PIL' is not defined",
     "output_type": "error",
     "traceback": [
      "\u001b[0;31m---------------------------------------------------------------------------\u001b[0m",
      "\u001b[0;31mNameError\u001b[0m                                 Traceback (most recent call last)",
      "Cell \u001b[0;32mIn[1], line 2\u001b[0m\n\u001b[1;32m      1\u001b[0m \u001b[38;5;28;01mimport\u001b[39;00m \u001b[38;5;21;01mmatplotlib\u001b[39;00m\u001b[38;5;21;01m.\u001b[39;00m\u001b[38;5;21;01mpyplot\u001b[39;00m \u001b[38;5;28;01mas\u001b[39;00m \u001b[38;5;21;01mplt\u001b[39;00m\n\u001b[0;32m----> 2\u001b[0m image_damage \u001b[38;5;241m=\u001b[39m \u001b[43mPIL\u001b[49m\u001b[38;5;241m.\u001b[39mImage\u001b[38;5;241m.\u001b[39mopen(sample_damage_image_path)\n\u001b[1;32m      3\u001b[0m image_nodamage \u001b[38;5;241m=\u001b[39m PIL\u001b[38;5;241m.\u001b[39mImage\u001b[38;5;241m.\u001b[39mopen(sample_nodamage_image_path)\n",
      "\u001b[0;31mNameError\u001b[0m: name 'PIL' is not defined"
     ]
    }
   ],
   "source": [
    "import matplotlib.pyplot as plt\n",
    "image_damage = PIL.Image.open(sample_damage_image_path)\n",
    "image_nodamage = PIL.Image.open(sample_nodamage_image_path)"
   ]
  },
  {
   "cell_type": "code",
   "execution_count": null,
   "metadata": {},
   "outputs": [],
   "source": [
    "plt.figure(figsize=(8, 4))\n",
    "plt.subplot(1, 2, 1)\n",
    "plt.imshow(image_damage)\n",
    "plt.title(f\"Predicted: {predict_image_category(sample_damage_image_path)}\")"
   ]
  },
  {
   "cell_type": "code",
   "execution_count": null,
   "metadata": {},
   "outputs": [],
   "source": [
    "plt.subplot(1, 2, 2)\n",
    "plt.imshow(image_nodamage)\n",
    "plt.title(f\"Predicted: {predict_image_category(sample_nodamage_image_path)}\")\n",
    "\n",
    "plt.show()"
   ]
  }
 ],
 "metadata": {
  "kernelspec": {
   "display_name": "Python 3.10.7 64-bit",
   "language": "python",
   "name": "python3"
  },
  "language_info": {
   "codemirror_mode": {
    "name": "ipython",
    "version": 3
   },
   "file_extension": ".py",
   "mimetype": "text/x-python",
   "name": "python",
   "nbconvert_exporter": "python",
   "pygments_lexer": "ipython3",
   "version": "3.10.7"
  },
  "orig_nbformat": 4,
  "vscode": {
   "interpreter": {
    "hash": "aee8b7b246df8f9039afb4144a1f6fd8d2ca17a180786b69acc140d282b71a49"
   }
  }
 },
 "nbformat": 4,
 "nbformat_minor": 2
}
